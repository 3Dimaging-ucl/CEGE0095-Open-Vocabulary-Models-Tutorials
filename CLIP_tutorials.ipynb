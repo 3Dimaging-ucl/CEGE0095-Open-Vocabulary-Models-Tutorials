{
 "cells": [
  {
   "cell_type": "markdown",
   "metadata": {
    "id": "Z5wZpN2EOIMR"
   },
   "source": [
    "# CLIP-based Open-Vocabulary Image Classification Tutorial\n",
    "[June Moh Goo](https://www.linkedin.com/in/jmgoo1118/) / PhD Student in Computer Vision for 3D Point Clouds\n",
    "\n",
    "---\n",
    "---\n",
    "\n",
    "\n",
    "[![Open In Colab](https://colab.research.google.com/assets/colab-badge.svg)](https://colab.research.google.com/drive/1i8ua1BmlfFGUm51QkngPFx_yahD15Tmb#scrollTo=Z5wZpN2EOIMR) [![Paper](https://img.shields.io/badge/arXiv-2103.00020-b31b1b.svg)](https://arxiv.org/pdf/2103.00020) [![GitHub](https://badges.aleen42.com/src/github.svg)](https://github.com/OpenAI/CLIP)\n",
    "\n",
    "In this tutorial, we will demonstrate how to use the CLIP model proposed by OpenAI to perform open-vocabulary image classification. CLIP (Contrastive Language-Image Pre-training) aligns images and text in the same embedding space, enabling classification without fixed class labels, simply by providing textual prompts.\n",
    "\n",
    "## Key Idea\n",
    "\n",
    "The key idea of OpenAI's CLIP (Contrastive Language–Image Pre-training) is to create a shared embedding space for images and text, enabling mutual understanding between the two modalities. CLIP achieves this by using contrastive learning on a large dataset of image-text pairs.\n",
    "\n",
    "Main Concepts:\n",
    "- Image-Text Matching: CLIP learns to align images and their corresponding textual descriptions by maximizing their similarity in the shared embedding space.\n",
    "- Multimodal Representation Learning: It uses two separate encoders (a Vision Transformer for images and a Transformer for text) to process each modality and project them into a common embedding space.\n",
    "- Zero-Shot Learning: After training, CLIP can generalize to new tasks and datasets without additional fine-tuning, allowing text descriptions to classify images directly.\n",
    "\n",
    "CLIP's strength lies in its generalization capability, performing at human-level accuracy across various datasets and tasks without task-specific training.\n",
    "\n",
    "For example, CLIP can identify a picture of a cat without being explicitly trained on a \"cat classification\" dataset. Instead, you can provide text prompts like \"a photo of a cat\", \"a photo of a dog\", and \"a photo of a car\", and it will correctly associate the cat image with the corresponding text description based on its pre-trained image-text alignment. This flexibility allows CLIP to classify or describe images for tasks it wasn’t specifically trained for, such as identifying objects, scenes, or even abstract concepts, simply by providing appropriate textual labels.\n",
    "\n",
    "\n",
    "![CLIP figure](https://github.com/openai/CLIP/blob/main/CLIP.png?raw=true)\n",
    "\n",
    "## What You Will Learn\n",
    "\n",
    "- How to install and load the CLIP model in Google Colab\n",
    "- How to load and preprocess an example image\n",
    "- How to create image and text embeddings using CLIP\n",
    "- How to compare image embeddings against multiple textual prompts to find the best match\n",
    "\n",
    "## Requirements\n",
    "\n",
    "- Google Colab environment (GPU recommended)\n",
    "- `torch`, `clip` libraries\n",
    "- Internet connection (to download example images)\n",
    "\n",
    "## References\n",
    "\n",
    "- [OpenAI CLIP GitHub Repository](https://github.com/openai/CLIP)\n",
    "- [Hugging Face Transformers (CLIP)](https://huggingface.co/docs/transformers/model_doc/clip)\n"
   ]
  },
  {
   "cell_type": "code",
   "execution_count": null,
   "metadata": {
    "colab": {
     "base_uri": "https://localhost:8080/",
     "height": 35
    },
    "executionInfo": {
     "elapsed": 2603,
     "status": "ok",
     "timestamp": 1734349716663,
     "user": {
      "displayName": "June Moh Goo",
      "userId": "17495297076246682976"
     },
     "user_tz": 0
    },
    "id": "1Q73UObbOGRM",
    "outputId": "fefb79fc-8d02-4ed8-afc2-e3dd0e3c3b6e"
   },
   "outputs": [],
   "source": [
    "# Check runtime environment (GPU recommended)\n",
    "import torch\n",
    "device = \"cuda\" if torch.cuda.is_available() else \"cpu\"\n",
    "device\n"
   ]
  },
  {
   "cell_type": "markdown",
   "metadata": {
    "id": "O3UT1JeJOpfV"
   },
   "source": [
    "## Installation and Imports\n",
    "\n",
    "Let's install CLIP and import the necessary libraries.\n"
   ]
  },
  {
   "cell_type": "code",
   "execution_count": null,
   "metadata": {
    "colab": {
     "base_uri": "https://localhost:8080/"
    },
    "executionInfo": {
     "elapsed": 17449,
     "status": "ok",
     "timestamp": 1734349734109,
     "user": {
      "displayName": "June Moh Goo",
      "userId": "17495297076246682976"
     },
     "user_tz": 0
    },
    "id": "sMBFsbN7OYYO",
    "outputId": "1f52db13-b20d-4deb-dc50-48990e4e449c"
   },
   "outputs": [],
   "source": [
    "%pip install git+https://github.com/openai/CLIP.git --upgrade ftfy regex tqdm"
   ]
  },
  {
   "cell_type": "code",
   "execution_count": null,
   "metadata": {
    "executionInfo": {
     "elapsed": 9267,
     "status": "ok",
     "timestamp": 1734349743372,
     "user": {
      "displayName": "June Moh Goo",
      "userId": "17495297076246682976"
     },
     "user_tz": 0
    },
    "id": "SG5UpIcqO1ko"
   },
   "outputs": [],
   "source": [
    "import clip\n",
    "from PIL import Image\n",
    "import requests\n",
    "from io import BytesIO\n",
    "import torch\n",
    "\n",
    "# Set the device (GPU if available)\n",
    "device = \"cuda\" if torch.cuda.is_available() else \"cpu\""
   ]
  },
  {
   "cell_type": "markdown",
   "metadata": {
    "id": "kztY35XtPCuf"
   },
   "source": [
    "## Load an Example Image\n",
    "\n",
    "We'll fetch an example image from the web. For instance, let's use an image of a dog.\n"
   ]
  },
  {
   "cell_type": "code",
   "execution_count": null,
   "metadata": {
    "colab": {
     "base_uri": "https://localhost:8080/",
     "height": 1000,
     "output_embedded_package_id": "1gzkhffnEC1UeK0TQYkvnvyknJGAPiHM4"
    },
    "executionInfo": {
     "elapsed": 11094,
     "status": "ok",
     "timestamp": 1734349754463,
     "user": {
      "displayName": "June Moh Goo",
      "userId": "17495297076246682976"
     },
     "user_tz": 0
    },
    "id": "Q8qEhhrDO8pY",
    "outputId": "3256a29e-f8d6-49a1-eb6b-6759e087c208"
   },
   "outputs": [],
   "source": [
    "image_url = \"https://a.travel-assets.com/findyours-php/viewfinder/images/res70/100000/100677-London.jpg\"\n",
    "\n",
    "response = requests.get(image_url)\n",
    "image = Image.open(BytesIO(response.content)).convert(\"RGB\")\n",
    "image\n"
   ]
  },
  {
   "cell_type": "markdown",
   "metadata": {
    "id": "HgLnOBEnPyAR"
   },
   "source": [
    "## Load the CLIP Model\n",
    "\n",
    "Load the CLIP model and corresponding tokenizer.\n"
   ]
  },
  {
   "cell_type": "code",
   "execution_count": null,
   "metadata": {
    "colab": {
     "base_uri": "https://localhost:8080/"
    },
    "executionInfo": {
     "elapsed": 3248,
     "status": "ok",
     "timestamp": 1734349757705,
     "user": {
      "displayName": "June Moh Goo",
      "userId": "17495297076246682976"
     },
     "user_tz": 0
    },
    "id": "d0HSn9gDPES9",
    "outputId": "28b8215b-e44b-42a1-fa96-5b68624dd146"
   },
   "outputs": [],
   "source": [
    "model, preprocess = clip.load(\"ViT-B/32\", device=device)\n"
   ]
  },
  {
   "cell_type": "markdown",
   "metadata": {
    "id": "lMa-iZ5EQAcd"
   },
   "source": [
    "## Preprocessing and Extracting Image Embeddings\n",
    "\n",
    "Use the provided `preprocess` function to convert the image into a suitable tensor and then pass it through the model to obtain the image embedding.\n"
   ]
  },
  {
   "cell_type": "code",
   "execution_count": null,
   "metadata": {
    "executionInfo": {
     "elapsed": 960,
     "status": "ok",
     "timestamp": 1734349758664,
     "user": {
      "displayName": "June Moh Goo",
      "userId": "17495297076246682976"
     },
     "user_tz": 0
    },
    "id": "D3CsQwqWP0oN"
   },
   "outputs": [],
   "source": [
    "image_input = preprocess(image).unsqueeze(0).to(device)\n",
    "\n",
    "with torch.no_grad():\n",
    "    image_features = model.encode_image(image_input)\n",
    "    image_features = image_features / image_features.norm(dim=-1, keepdim=True)\n"
   ]
  },
  {
   "cell_type": "markdown",
   "metadata": {
    "id": "r8sZh6GiQEkN"
   },
   "source": [
    "## Define Text Prompts\n",
    "\n",
    "We will define several text prompts and let CLIP determine which one best matches the image:\n",
    "\n",
    "- \"a photo of a dog\"\n",
    "- \"a photo of a cat\"\n",
    "- \"a photo of a bird\"\n",
    "- \"a photo of a computer\"\n",
    "- \"a photo of a car\"\n"
   ]
  },
  {
   "cell_type": "code",
   "execution_count": null,
   "metadata": {
    "executionInfo": {
     "elapsed": 650,
     "status": "ok",
     "timestamp": 1734349759311,
     "user": {
      "displayName": "June Moh Goo",
      "userId": "17495297076246682976"
     },
     "user_tz": 0
    },
    "id": "VOcYJKIqQCs8"
   },
   "outputs": [],
   "source": [
    "text_prompts = [\n",
    "    \"a photo of a bus\",\n",
    "    \"a photo of a taxi\",\n",
    "    \"a photo of a Road\",\n",
    "    \"a photo of a cat\",\n",
    "    \"a photo of a dog\",\n",
    "    \"a photo of a bird\",\n",
    "    \"a photo of a computer\",\n",
    "    \"a photo of a phone\"\n",
    "]\n",
    "\n",
    "text_inputs = clip.tokenize(text_prompts).to(device)\n",
    "\n",
    "with torch.no_grad():\n",
    "    text_features = model.encode_text(text_inputs)\n",
    "    text_features = text_features / text_features.norm(dim=-1, keepdim=True)\n"
   ]
  },
  {
   "cell_type": "markdown",
   "metadata": {
    "id": "bVBHw8F4QJPm"
   },
   "source": [
    "## Computing Similarity and Results\n",
    "\n",
    "We'll compute the cosine similarity between the image embedding and each text embedding. The text prompt with the highest similarity score should best describe the image.\n"
   ]
  },
  {
   "cell_type": "code",
   "execution_count": null,
   "metadata": {
    "colab": {
     "base_uri": "https://localhost:8080/"
    },
    "executionInfo": {
     "elapsed": 6,
     "status": "ok",
     "timestamp": 1734349759312,
     "user": {
      "displayName": "June Moh Goo",
      "userId": "17495297076246682976"
     },
     "user_tz": 0
    },
    "id": "85uWtIPYQHV8",
    "outputId": "6f2b9616-5663-4322-9f2d-e1c0078af689"
   },
   "outputs": [],
   "source": [
    "similarity = (image_features @ text_features.T).cpu().numpy().flatten()\n",
    "\n",
    "# Print all similarity scores along with their corresponding prompt\n",
    "for prompt, score in zip(text_prompts, similarity):\n",
    "    print(f\"Prompt: {prompt} | Similarity score: {score}\")\n",
    "\n",
    "# Identify and print the best match\n",
    "best_match_idx = similarity.argmax()\n",
    "best_prompt = text_prompts[best_match_idx]\n",
    "print(\"\\nThe most similar text prompt to the input image is:\", best_prompt)\n",
    "print(\"Similarity score:\", similarity[best_match_idx])\n"
   ]
  },
  {
   "cell_type": "markdown",
   "metadata": {
    "id": "lMaQdBHJQNIG"
   },
   "source": [
    "## Interpretation\n",
    "\n",
    "If the image is of a dog, we expect \"a photo of a dog\" to have the highest similarity score.\n",
    "\n",
    "This completes our simple demonstration of using CLIP for open-vocabulary image classification.\n",
    "\n",
    "## Next Steps\n",
    "\n",
    "- Try different prompts. For instance, try describing specific features of the object in the image.\n",
    "- Experiment with various images and see how CLIP performs.\n",
    "- Explore advanced applications: zero-shot classification for more nuanced concepts, image retrieval, or even image captioning tasks.\n",
    "\n",
    "This concludes the basic CLIP open-vocabulary classification tutorial.\n"
   ]
  },
  {
   "cell_type": "code",
   "execution_count": null,
   "metadata": {
    "id": "SddgkZjqQKz5"
   },
   "outputs": [],
   "source": []
  }
 ],
 "metadata": {
  "accelerator": "GPU",
  "colab": {
   "authorship_tag": "ABX9TyPvhFOXYi6SQJMISqfC1EVD",
   "gpuType": "T4",
   "provenance": []
  },
  "kernelspec": {
   "display_name": "Python 3",
   "name": "python3"
  },
  "language_info": {
   "name": "python"
  }
 },
 "nbformat": 4,
 "nbformat_minor": 0
}
